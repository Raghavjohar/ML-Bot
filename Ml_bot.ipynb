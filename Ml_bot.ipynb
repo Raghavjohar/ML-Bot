{
  "nbformat": 4,
  "nbformat_minor": 0,
  "metadata": {
    "colab": {
      "name": "Ml bot.ipynb",
      "provenance": [],
      "collapsed_sections": []
    },
    "kernelspec": {
      "name": "python3",
      "display_name": "Python 3"
    }
  },
  "cells": [
    {
      "cell_type": "code",
      "metadata": {
        "id": "nMk1DwYek9xu",
        "colab": {
          "base_uri": "https://localhost:8080/"
        },
        "outputId": "4a0d0575-6b8d-4895-cff5-57747f4c6106"
      },
      "source": [
        "pip install nltk\n"
      ],
      "execution_count": 1,
      "outputs": [
        {
          "output_type": "stream",
          "text": [
            "Requirement already satisfied: nltk in /usr/local/lib/python3.7/dist-packages (3.2.5)\n",
            "Requirement already satisfied: six in /usr/local/lib/python3.7/dist-packages (from nltk) (1.15.0)\n"
          ],
          "name": "stdout"
        }
      ]
    },
    {
      "cell_type": "code",
      "metadata": {
        "id": "jtlH0_YzlJSU",
        "colab": {
          "base_uri": "https://localhost:8080/"
        },
        "outputId": "0aeb7cd4-e9c1-442a-9cf4-ff630d849e61"
      },
      "source": [
        "pip install newspaper3k"
      ],
      "execution_count": 2,
      "outputs": [
        {
          "output_type": "stream",
          "text": [
            "Collecting newspaper3k\n",
            "\u001b[?25l  Downloading https://files.pythonhosted.org/packages/d7/b9/51afecb35bb61b188a4b44868001de348a0e8134b4dfa00ffc191567c4b9/newspaper3k-0.2.8-py3-none-any.whl (211kB)\n",
            "\u001b[K     |████████████████████████████████| 215kB 5.2MB/s \n",
            "\u001b[?25hRequirement already satisfied: requests>=2.10.0 in /usr/local/lib/python3.7/dist-packages (from newspaper3k) (2.23.0)\n",
            "Collecting feedparser>=5.2.1\n",
            "\u001b[?25l  Downloading https://files.pythonhosted.org/packages/1c/21/faf1bac028662cc8adb2b5ef7a6f3999a765baa2835331df365289b0ca56/feedparser-6.0.2-py3-none-any.whl (80kB)\n",
            "\u001b[K     |████████████████████████████████| 81kB 5.6MB/s \n",
            "\u001b[?25hRequirement already satisfied: python-dateutil>=2.5.3 in /usr/local/lib/python3.7/dist-packages (from newspaper3k) (2.8.1)\n",
            "Collecting tinysegmenter==0.3\n",
            "  Downloading https://files.pythonhosted.org/packages/17/82/86982e4b6d16e4febc79c2a1d68ee3b707e8a020c5d2bc4af8052d0f136a/tinysegmenter-0.3.tar.gz\n",
            "Requirement already satisfied: nltk>=3.2.1 in /usr/local/lib/python3.7/dist-packages (from newspaper3k) (3.2.5)\n",
            "Requirement already satisfied: Pillow>=3.3.0 in /usr/local/lib/python3.7/dist-packages (from newspaper3k) (7.1.2)\n",
            "Collecting cssselect>=0.9.2\n",
            "  Downloading https://files.pythonhosted.org/packages/3b/d4/3b5c17f00cce85b9a1e6f91096e1cc8e8ede2e1be8e96b87ce1ed09e92c5/cssselect-1.1.0-py2.py3-none-any.whl\n",
            "Collecting feedfinder2>=0.0.4\n",
            "  Downloading https://files.pythonhosted.org/packages/35/82/1251fefec3bb4b03fd966c7e7f7a41c9fc2bb00d823a34c13f847fd61406/feedfinder2-0.0.4.tar.gz\n",
            "Collecting jieba3k>=0.35.1\n",
            "\u001b[?25l  Downloading https://files.pythonhosted.org/packages/a9/cb/2c8332bcdc14d33b0bedd18ae0a4981a069c3513e445120da3c3f23a8aaa/jieba3k-0.35.1.zip (7.4MB)\n",
            "\u001b[K     |████████████████████████████████| 7.4MB 8.5MB/s \n",
            "\u001b[?25hRequirement already satisfied: lxml>=3.6.0 in /usr/local/lib/python3.7/dist-packages (from newspaper3k) (4.2.6)\n",
            "Collecting tldextract>=2.0.1\n",
            "\u001b[?25l  Downloading https://files.pythonhosted.org/packages/7e/62/b6acd3129c5615b9860e670df07fd55b76175b63e6b7f68282c7cad38e9e/tldextract-3.1.0-py2.py3-none-any.whl (87kB)\n",
            "\u001b[K     |████████████████████████████████| 92kB 8.7MB/s \n",
            "\u001b[?25hRequirement already satisfied: PyYAML>=3.11 in /usr/local/lib/python3.7/dist-packages (from newspaper3k) (3.13)\n",
            "Requirement already satisfied: beautifulsoup4>=4.4.1 in /usr/local/lib/python3.7/dist-packages (from newspaper3k) (4.6.3)\n",
            "Requirement already satisfied: certifi>=2017.4.17 in /usr/local/lib/python3.7/dist-packages (from requests>=2.10.0->newspaper3k) (2020.12.5)\n",
            "Requirement already satisfied: chardet<4,>=3.0.2 in /usr/local/lib/python3.7/dist-packages (from requests>=2.10.0->newspaper3k) (3.0.4)\n",
            "Requirement already satisfied: urllib3!=1.25.0,!=1.25.1,<1.26,>=1.21.1 in /usr/local/lib/python3.7/dist-packages (from requests>=2.10.0->newspaper3k) (1.24.3)\n",
            "Requirement already satisfied: idna<3,>=2.5 in /usr/local/lib/python3.7/dist-packages (from requests>=2.10.0->newspaper3k) (2.10)\n",
            "Collecting sgmllib3k\n",
            "  Downloading https://files.pythonhosted.org/packages/9e/bd/3704a8c3e0942d711c1299ebf7b9091930adae6675d7c8f476a7ce48653c/sgmllib3k-1.0.0.tar.gz\n",
            "Requirement already satisfied: six>=1.5 in /usr/local/lib/python3.7/dist-packages (from python-dateutil>=2.5.3->newspaper3k) (1.15.0)\n",
            "Requirement already satisfied: filelock>=3.0.8 in /usr/local/lib/python3.7/dist-packages (from tldextract>=2.0.1->newspaper3k) (3.0.12)\n",
            "Collecting requests-file>=1.4\n",
            "  Downloading https://files.pythonhosted.org/packages/77/86/cdb5e8eaed90796aa83a6d9f75cfbd37af553c47a291cd47bc410ef9bdb2/requests_file-1.5.1-py2.py3-none-any.whl\n",
            "Building wheels for collected packages: tinysegmenter, feedfinder2, jieba3k, sgmllib3k\n",
            "  Building wheel for tinysegmenter (setup.py) ... \u001b[?25l\u001b[?25hdone\n",
            "  Created wheel for tinysegmenter: filename=tinysegmenter-0.3-cp37-none-any.whl size=13538 sha256=ca3ee4ae8e4b6083c4ed7ce21a0fd410bddc10b15afa5ee32a5208323080a59b\n",
            "  Stored in directory: /root/.cache/pip/wheels/81/2b/43/a02ede72324dd40cdd7ca53aad718c7710628e91b8b0dc0f02\n",
            "  Building wheel for feedfinder2 (setup.py) ... \u001b[?25l\u001b[?25hdone\n",
            "  Created wheel for feedfinder2: filename=feedfinder2-0.0.4-cp37-none-any.whl size=3358 sha256=7ddd0e56d6b1006fda3cc868b258947942dd3b479e580c34a4fe74df79cc10a8\n",
            "  Stored in directory: /root/.cache/pip/wheels/de/03/ca/778e3a7a627e3d98836cc890e7cb40c7575424cfd3340f40ed\n",
            "  Building wheel for jieba3k (setup.py) ... \u001b[?25l\u001b[?25hdone\n",
            "  Created wheel for jieba3k: filename=jieba3k-0.35.1-cp37-none-any.whl size=7398406 sha256=06613cf6a18079aaa906f7343e1208557160471417e1424f8ab4525ca2cfc000\n",
            "  Stored in directory: /root/.cache/pip/wheels/83/15/9c/a3f1f67e7f7181170ad37d32e503c35da20627c013f438ed34\n",
            "  Building wheel for sgmllib3k (setup.py) ... \u001b[?25l\u001b[?25hdone\n",
            "  Created wheel for sgmllib3k: filename=sgmllib3k-1.0.0-cp37-none-any.whl size=6067 sha256=7cc8fa6642eb2c94f897a15db4f59fa353ecd44ce80376e81de32f83bc92bca3\n",
            "  Stored in directory: /root/.cache/pip/wheels/f1/80/5a/444ba08a550cdd241bd9baf8bae44be750efe370adb944506a\n",
            "Successfully built tinysegmenter feedfinder2 jieba3k sgmllib3k\n",
            "Installing collected packages: sgmllib3k, feedparser, tinysegmenter, cssselect, feedfinder2, jieba3k, requests-file, tldextract, newspaper3k\n",
            "Successfully installed cssselect-1.1.0 feedfinder2-0.0.4 feedparser-6.0.2 jieba3k-0.35.1 newspaper3k-0.2.8 requests-file-1.5.1 sgmllib3k-1.0.0 tinysegmenter-0.3 tldextract-3.1.0\n"
          ],
          "name": "stdout"
        }
      ]
    },
    {
      "cell_type": "code",
      "metadata": {
        "id": "9gfwx-FJlWGH"
      },
      "source": [
        "from newspaper import Article\n",
        "import random\n",
        "import string\n",
        "import nltk\n",
        "from sklearn.feature_extraction.text import CountVectorizer\n",
        "from sklearn.metrics.pairwise import cosine_similarity\n",
        "import numpy as np\n",
        "import warnings\n",
        "warnings.filterwarnings('ignore')"
      ],
      "execution_count": null,
      "outputs": []
    },
    {
      "cell_type": "code",
      "metadata": {
        "id": "co4jfsBimKbn",
        "colab": {
          "base_uri": "https://localhost:8080/",
          "height": 34
        },
        "outputId": "6f621fc3-2e69-4b71-cf55-8129fc39f2b1"
      },
      "source": [
        "nltk.download('punkt',quiet=True)"
      ],
      "execution_count": null,
      "outputs": [
        {
          "output_type": "execute_result",
          "data": {
            "text/plain": [
              "True"
            ]
          },
          "metadata": {
            "tags": []
          },
          "execution_count": 6
        }
      ]
    },
    {
      "cell_type": "code",
      "metadata": {
        "id": "-8Me4XMlncnK"
      },
      "source": [
        "article= Article('https://www.mayoclinic.org/diseases-conditions/coronavirus/symptoms-causes/syc-20479963')\n",
        "article.download()\n",
        "article.parse()\n",
        "article.nlp()\n",
        "corpus=article.text"
      ],
      "execution_count": null,
      "outputs": []
    },
    {
      "cell_type": "code",
      "metadata": {
        "id": "E3o720p_n3xN",
        "colab": {
          "base_uri": "https://localhost:8080/",
          "height": 1000
        },
        "outputId": "049e613a-177a-4384-b51e-5189b9989fe9"
      },
      "source": [
        "print(corpus)"
      ],
      "execution_count": null,
      "outputs": [
        {
          "output_type": "stream",
          "text": [
            "Overview\n",
            "\n",
            "Coronavirus Open pop-up dialog box Close Coronavirus Coronavirus Coronavirus is a family of viruses that can cause respiratory illnesses such as the common cold, severe acute respiratory syndrome (SARS) and Middle East respiratory syndrome (MERS).\n",
            "\n",
            "Coronaviruses are a family of viruses that can cause illnesses such as the common cold, severe acute respiratory syndrome (SARS) and Middle East respiratory syndrome (MERS). In 2019, a new coronavirus was identified as the cause of a disease outbreak that originated in China.\n",
            "\n",
            "The virus is now known as the severe acute respiratory syndrome coronavirus 2 (SARS-CoV-2). The disease it causes is called coronavirus disease 2019 (COVID-19). In March 2020, the World Health Organization (WHO) declared the COVID-19 outbreak a pandemic.\n",
            "\n",
            "Public health groups, including the U.S. Centers for Disease Control and Prevention (CDC) and WHO , are monitoring the pandemic and posting updates on their websites. These groups have also issued recommendations for preventing and treating the illness.\n",
            "\n",
            "Symptoms\n",
            "\n",
            "Signs and symptoms of coronavirus disease 2019 (COVID-19) may appear two to 14 days after exposure. This time after exposure and before having symptoms is called the incubation period. Common signs and symptoms can include:\n",
            "\n",
            "Fever\n",
            "\n",
            "Cough\n",
            "\n",
            "Tiredness\n",
            "\n",
            "Early symptoms of COVID-19 may include a loss of taste or smell.\n",
            "\n",
            "Other symptoms can include:\n",
            "\n",
            "Shortness of breath or difficulty breathing\n",
            "\n",
            "Muscle aches\n",
            "\n",
            "Chills\n",
            "\n",
            "Sore throat\n",
            "\n",
            "Runny nose\n",
            "\n",
            "Headache\n",
            "\n",
            "Chest pain\n",
            "\n",
            "This list is not all inclusive. Other less common symptoms have been reported, such as rash, nausea, vomiting and diarrhea. Children have similar symptoms to adults and generally have mild illness.\n",
            "\n",
            "The severity of COVID-19 symptoms can range from very mild to severe. Some people may have only a few symptoms, and some people may have no symptoms at all. Some people may experience worsened symptoms, such as worsened shortness of breath and pneumonia, about a week after symptoms start.\n",
            "\n",
            "People who are older have a higher risk of serious illness from COVID-19 , and the risk increases with age. People who have existing chronic medical conditions also may have a higher risk of serious illness. Serious medical conditions that increase the risk of serious illness from COVID-19 include:\n",
            "\n",
            "Serious heart diseases, such as heart failure, coronary artery disease or cardiomyopathy\n",
            "\n",
            "Cancer\n",
            "\n",
            "Chronic obstructive pulmonary disease (COPD)\n",
            "\n",
            "Type 2 diabetes\n",
            "\n",
            "Severe obesity\n",
            "\n",
            "Chronic kidney disease\n",
            "\n",
            "Sickle cell disease\n",
            "\n",
            "Weakened immune system from solid organ transplants\n",
            "\n",
            "Other conditions may increase the risk of serious illness, such as:\n",
            "\n",
            "Asthma\n",
            "\n",
            "Liver disease\n",
            "\n",
            "Chronic lung diseases such as cystic fibrosis\n",
            "\n",
            "Brain and nervous system conditions\n",
            "\n",
            "Weakened immune system from bone marrow transplant, HIV or some medications\n",
            "\n",
            "Type 1 diabetes\n",
            "\n",
            "High blood pressure\n",
            "\n",
            "This list is not all inclusive. Other underlying medical conditions may increase your risk of serious illness from COVID-19 .\n",
            "\n",
            "COVID-19 Self-Assessment Tool\n",
            "\n",
            "Assess your symptoms and find out if you're a candidate for a coronavirus disease 2019 (COVID-19) test.\n",
            "\n",
            "When to see a doctor\n",
            "\n",
            "If you have COVID-19 symptoms or you've been in contact with someone diagnosed with COVID-19 , contact your doctor or clinic right away for medical advice. Tell your health care team about your symptoms and possible exposure before you go to your appointment.\n",
            "\n",
            "If you have emergency COVID-19 signs and symptoms, seek care immediately. Emergency signs and symptoms can include:\n",
            "\n",
            "Trouble breathing\n",
            "\n",
            "Persistent chest pain or pressure\n",
            "\n",
            "Inability to stay awake\n",
            "\n",
            "New confusion\n",
            "\n",
            "Blue lips or face\n",
            "\n",
            "If you have signs or symptoms of COVID-19 , contact your doctor or clinic for guidance. Let your doctor know if you have other chronic medical conditions, such as heart disease or lung disease. During the pandemic, it's important to make sure health care is available for those in greatest need.\n",
            "\n",
            "More Information Unusual symptoms of coronavirus\n",
            "\n",
            "Causes\n",
            "\n",
            "Infection with the new coronavirus (severe acute respiratory syndrome coronavirus 2, or SARS-CoV-2) causes coronavirus disease 2019 ( COVID-19 ).\n",
            "\n",
            "The virus appears to spread easily among people, and more continues to be discovered over time about how it spreads. Data has shown that it spreads from person to person among those in close contact (within about 6 feet, or 2 meters). The virus spreads by respiratory droplets released when someone with the virus coughs, sneezes or talks. These droplets can be inhaled or land in the mouth or nose of a person nearby.\n",
            "\n",
            "It can also spread if a person touches a surface with the virus on it and then touches his or her mouth, nose or eyes, although this isn't considered to be a main way it spreads.\n",
            "\n",
            "Risk factors\n",
            "\n",
            "Risk factors for COVID-19 appear to include:\n",
            "\n",
            "Close contact (within 6 feet, or 2 meters) with someone who has COVID-19\n",
            "\n",
            "Being coughed or sneezed on by an infected person\n",
            "\n",
            "Complications\n",
            "\n",
            "Although most people with COVID-19 have mild to moderate symptoms, the disease can cause severe medical complications and lead to death in some people. Older adults or people with existing chronic medical conditions are at greater risk of becoming seriously ill with COVID-19 .\n",
            "\n",
            "Complications can include:\n",
            "\n",
            "Pneumonia and trouble breathing\n",
            "\n",
            "Organ failure in several organs\n",
            "\n",
            "Heart problems\n",
            "\n",
            "A severe lung condition that causes a low amount of oxygen to go through your bloodstream to your organs (acute respiratory distress syndrome)\n",
            "\n",
            "Blood clots\n",
            "\n",
            "Acute kidney injury\n",
            "\n",
            "Additional viral and bacterial infections\n",
            "\n",
            "More Information Multisystem inflammatory syndrome in children (MIS-C)\n",
            "\n",
            "Prevention\n",
            "\n",
            "Although there is no vaccine available to prevent COVID-19 , you can take steps to reduce your risk of infection. WHO and CDC recommend following these precautions for avoiding COVID-19 :\n",
            "\n",
            "Avoid large events and mass gatherings.\n",
            "\n",
            "Avoid close contact (within about 6 feet, or 2 meters) with anyone who is sick or has symptoms.\n",
            "\n",
            "Stay home as much as possible and keep distance between yourself and others (within about 6 feet, or 2 meters), especially if you have a higher risk of serious illness. Keep in mind some people may have COVID-19 and spread it to others, even if they don't have symptoms or don't know they have COVID-19 .\n",
            "\n",
            "and spread it to others, even if they don't have symptoms or don't know they have . Wash your hands often with soap and water for at least 20 seconds, or use an alcohol-based hand sanitizer that contains at least 60% alcohol.\n",
            "\n",
            "Cover your face with a cloth face mask in public spaces, such as the grocery store, where it's difficult to avoid close contact with others, especially if you're in an area with ongoing community spread. Only use nonmedical cloth masks — surgical masks and N95 respirators should be reserved for health care providers.\n",
            "\n",
            "Cover your mouth and nose with your elbow or a tissue when you cough or sneeze. Throw away the used tissue. Wash your hands right away.\n",
            "\n",
            "Avoid touching your eyes, nose and mouth.\n",
            "\n",
            "Avoid sharing dishes, glasses, towels, bedding and other household items if you're sick.\n",
            "\n",
            "Clean and disinfect high-touch surfaces, such as doorknobs, light switches, electronics and counters, daily.\n",
            "\n",
            "Stay home from work, school and public areas if you're sick, unless you're going to get medical care. Avoid public transportation, taxis and ride-sharing if you're sick.\n",
            "\n",
            "If you have a chronic medical condition and may have a higher risk of serious illness, check with your doctor about other ways to protect yourself.\n",
            "\n",
            "Travel\n"
          ],
          "name": "stdout"
        }
      ]
    },
    {
      "cell_type": "code",
      "metadata": {
        "id": "x46-4WXuoOzp"
      },
      "source": [
        "text=corpus\n",
        "sentence_list = nltk.sent_tokenize(text)\n"
      ],
      "execution_count": null,
      "outputs": []
    },
    {
      "cell_type": "code",
      "metadata": {
        "id": "m80S8s3ipWzL",
        "colab": {
          "base_uri": "https://localhost:8080/",
          "height": 54
        },
        "outputId": "0bb0ad73-4bf8-4741-a194-e6e9681bb17c"
      },
      "source": [
        "print(sentence_list)"
      ],
      "execution_count": null,
      "outputs": [
        {
          "output_type": "stream",
          "text": [
            "[\"Editor's note: For the latest updates on the 2020 coronavirus outbreak, see our news coverage .\", 'What Is COVID-19?', 'A coronavirus is a kind of common virus that causes an infection in your nose, sinuses, or upper throat.', \"Most coronaviruses aren't dangerous.\", 'In early 2020, after a December 2019 outbreak in China, the World Health Organization identified SARS-CoV-2 as a new type of coronavirus.', 'The outbreak quickly spread around the world.', 'COVID-19 is a disease caused by SARS-CoV-2 that can trigger what doctors call a respiratory tract infection.', 'It can affect your upper respiratory tract (sinuses, nose, and throat) or lower respiratory tract (windpipe and lungs).', 'It spreads the same way other coronaviruses do, mainly through person-to-person contact.', 'Infections range from mild to deadly.', 'SARS-CoV-2 is one of seven types of coronavirus, including the ones that cause severe diseases like Middle East respiratory syndrome (MERS) and sudden acute respiratory syndrome (SARS).', 'The other coronaviruses cause most of the colds that affect us during the year but aren’t a serious threat for otherwise healthy people.', 'Is there more than one strain of SARS-CoV-2?', 'It’s normal for a virus to change, or mutate, as it infects people.', 'A Chinese study of 103 COVID-19 cases suggests the virus that causes it has done just that.', 'They found two strains, which they named L and S. The S type is older, but the L type was more common in early stages of the outbreak.', 'They think one may cause more cases of the disease than the other, but they’re still working on what it all means.', 'How long will the coronavirus last?', 'It’s too soon to tell how long the pandemic will continue.', 'It depends on many things, including researchers’ work to learn more about the virus, their search for a treatment and a vaccine, and the public’s efforts to slow the spread.', 'More than 100 vaccine candidates are in various stages of development and testing.', 'This process usually takes years.', 'Researchers are speeding it up as much as they can, but it still might take 12 to 18 months to find a vaccine that works and is safe.']\n"
          ],
          "name": "stdout"
        }
      ]
    },
    {
      "cell_type": "code",
      "metadata": {
        "id": "aKIDI1BWpdoe"
      },
      "source": [
        "#fn. to return greeting response\n",
        "def greeting_response(text):\n",
        "  text=text.lower()\n",
        "  #bot's response\n",
        "  bot_greetings=['hey','hi there','hey There', 'hello' , 'howdy' ]\n",
        "  #user's greet'\n",
        "  user_greetings=['hi','hey','hello','hola','greetings','wassup']\n",
        "\n",
        "  for word in text.split():\n",
        "    if word in user_greetings:\n",
        "      return random.choice(bot_greetings)"
      ],
      "execution_count": null,
      "outputs": []
    },
    {
      "cell_type": "code",
      "metadata": {
        "id": "R4zFXUAKt77B"
      },
      "source": [
        "def index_sort(list_var):\n",
        "  length=len(list_var)\n",
        "  list_index = list(range(0,length))\n",
        "\n",
        "  x=list_var\n",
        "  for i in range(length):\n",
        "    for j in range(length):\n",
        "      if x[list_index[i]] > x[list_index[j]]:\n",
        "        temp=list_index[i]\n",
        "        list_index[i]=list_index[j]\n",
        "        list_index[j]=temp\n",
        "\n",
        "  return list_index      "
      ],
      "execution_count": null,
      "outputs": []
    },
    {
      "cell_type": "code",
      "metadata": {
        "id": "FFG4EkR3s79d"
      },
      "source": [
        "def bot_response(user_input):\n",
        "  user_input=user_input.lower()\n",
        "  global sentence_list\n",
        "  sentence_list.append(user_input)\n",
        "  bot_response = ''\n",
        "  cm=CountVectorizer().fit_transform(sentence_list)\n",
        "  similarity_scores=cosine_similarity(cm[-1],cm)\n",
        "  similarity_scores_list=similarity_scores.flatten()\n",
        "  index= index_sort(similarity_scores_list)\n",
        "  index= index[1:]\n",
        "  response_flag=0\n",
        "\n",
        "  j=0\n",
        "  for i in range(len(index)):\n",
        "    if similarity_scores_list[index[i]] > 0.0:\n",
        "      bot_response=bot_response + sentence_list[index[i]]\n",
        "      response_flag=1\n",
        "      j=j+1\n",
        "    if j>2:\n",
        "      break  \n",
        "\n",
        "  if response_flag == 0:\n",
        "    bot_response=bot_response +' '+\"I apologose, i did not quiet understand that. \"\n",
        "\n",
        "  sentence_list.remove(user_input)\n",
        "  return bot_response      "
      ],
      "execution_count": null,
      "outputs": []
    },
    {
      "cell_type": "code",
      "metadata": {
        "id": "9Fqe1ygfvQF7",
        "colab": {
          "base_uri": "https://localhost:8080/",
          "height": 659
        },
        "outputId": "d6087a23-1d6a-4632-a8a4-367cb6121e78"
      },
      "source": [
        "print('Doc Bot: Hey. I am Doctor Bot. I am here to answer your queries regarding COVID-19. If you want to exit, type Bye.')\n",
        "\n",
        "exit_list=['exit','see you later','bye','cya','quit']\n",
        "while(True):\n",
        "  user_input=input()\n",
        "  if user_input.lower() in exit_list:\n",
        "    print('Doc Bot: Bye, It was great serving for you.')\n",
        "    break\n",
        "  else:\n",
        "    if greeting_response(user_input) != None:\n",
        "      print('Doc Bot:' + greeting_response(user_input))\n",
        "    else:\n",
        "      print('Doc Bot:' + bot_response(user_input))"
      ],
      "execution_count": null,
      "outputs": [
        {
          "output_type": "stream",
          "text": [
            "Doc Bot: Hey. I am Doctor Bot. I am here to answer your queries regarding COVID-19. If you want to exit, type Bye.\n",
            "Hey\n",
            "Doc Bot:hey There\n",
            "What is coronavirus ?\n",
            "Doc Bot:What Is COVID-19?COVID-19 is a disease caused by SARS-CoV-2 that can trigger what doctors call a respiratory tract infection.A coronavirus is a kind of common virus that causes an infection in your nose, sinuses, or upper throat.\n",
            "Symptoms\n",
            "Doc Bot: I apologose, i did not quiet understand that. \n"
          ],
          "name": "stdout"
        },
        {
          "output_type": "error",
          "ename": "KeyboardInterrupt",
          "evalue": "ignored",
          "traceback": [
            "\u001b[0;31m---------------------------------------------------------------------------\u001b[0m",
            "\u001b[0;31mKeyboardInterrupt\u001b[0m                         Traceback (most recent call last)",
            "\u001b[0;32m/usr/local/lib/python3.6/dist-packages/ipykernel/kernelbase.py\u001b[0m in \u001b[0;36m_input_request\u001b[0;34m(self, prompt, ident, parent, password)\u001b[0m\n\u001b[1;32m    728\u001b[0m             \u001b[0;32mtry\u001b[0m\u001b[0;34m:\u001b[0m\u001b[0;34m\u001b[0m\u001b[0;34m\u001b[0m\u001b[0m\n\u001b[0;32m--> 729\u001b[0;31m                 \u001b[0mident\u001b[0m\u001b[0;34m,\u001b[0m \u001b[0mreply\u001b[0m \u001b[0;34m=\u001b[0m \u001b[0mself\u001b[0m\u001b[0;34m.\u001b[0m\u001b[0msession\u001b[0m\u001b[0;34m.\u001b[0m\u001b[0mrecv\u001b[0m\u001b[0;34m(\u001b[0m\u001b[0mself\u001b[0m\u001b[0;34m.\u001b[0m\u001b[0mstdin_socket\u001b[0m\u001b[0;34m,\u001b[0m \u001b[0;36m0\u001b[0m\u001b[0;34m)\u001b[0m\u001b[0;34m\u001b[0m\u001b[0;34m\u001b[0m\u001b[0m\n\u001b[0m\u001b[1;32m    730\u001b[0m             \u001b[0;32mexcept\u001b[0m \u001b[0mException\u001b[0m\u001b[0;34m:\u001b[0m\u001b[0;34m\u001b[0m\u001b[0;34m\u001b[0m\u001b[0m\n",
            "\u001b[0;32m/usr/local/lib/python3.6/dist-packages/jupyter_client/session.py\u001b[0m in \u001b[0;36mrecv\u001b[0;34m(self, socket, mode, content, copy)\u001b[0m\n\u001b[1;32m    802\u001b[0m         \u001b[0;32mtry\u001b[0m\u001b[0;34m:\u001b[0m\u001b[0;34m\u001b[0m\u001b[0;34m\u001b[0m\u001b[0m\n\u001b[0;32m--> 803\u001b[0;31m             \u001b[0mmsg_list\u001b[0m \u001b[0;34m=\u001b[0m \u001b[0msocket\u001b[0m\u001b[0;34m.\u001b[0m\u001b[0mrecv_multipart\u001b[0m\u001b[0;34m(\u001b[0m\u001b[0mmode\u001b[0m\u001b[0;34m,\u001b[0m \u001b[0mcopy\u001b[0m\u001b[0;34m=\u001b[0m\u001b[0mcopy\u001b[0m\u001b[0;34m)\u001b[0m\u001b[0;34m\u001b[0m\u001b[0;34m\u001b[0m\u001b[0m\n\u001b[0m\u001b[1;32m    804\u001b[0m         \u001b[0;32mexcept\u001b[0m \u001b[0mzmq\u001b[0m\u001b[0;34m.\u001b[0m\u001b[0mZMQError\u001b[0m \u001b[0;32mas\u001b[0m \u001b[0me\u001b[0m\u001b[0;34m:\u001b[0m\u001b[0;34m\u001b[0m\u001b[0;34m\u001b[0m\u001b[0m\n",
            "\u001b[0;32m/usr/local/lib/python3.6/dist-packages/zmq/sugar/socket.py\u001b[0m in \u001b[0;36mrecv_multipart\u001b[0;34m(self, flags, copy, track)\u001b[0m\n\u001b[1;32m    490\u001b[0m         \"\"\"\n\u001b[0;32m--> 491\u001b[0;31m         \u001b[0mparts\u001b[0m \u001b[0;34m=\u001b[0m \u001b[0;34m[\u001b[0m\u001b[0mself\u001b[0m\u001b[0;34m.\u001b[0m\u001b[0mrecv\u001b[0m\u001b[0;34m(\u001b[0m\u001b[0mflags\u001b[0m\u001b[0;34m,\u001b[0m \u001b[0mcopy\u001b[0m\u001b[0;34m=\u001b[0m\u001b[0mcopy\u001b[0m\u001b[0;34m,\u001b[0m \u001b[0mtrack\u001b[0m\u001b[0;34m=\u001b[0m\u001b[0mtrack\u001b[0m\u001b[0;34m)\u001b[0m\u001b[0;34m]\u001b[0m\u001b[0;34m\u001b[0m\u001b[0;34m\u001b[0m\u001b[0m\n\u001b[0m\u001b[1;32m    492\u001b[0m         \u001b[0;31m# have first part already, only loop while more to receive\u001b[0m\u001b[0;34m\u001b[0m\u001b[0;34m\u001b[0m\u001b[0;34m\u001b[0m\u001b[0m\n",
            "\u001b[0;32mzmq/backend/cython/socket.pyx\u001b[0m in \u001b[0;36mzmq.backend.cython.socket.Socket.recv\u001b[0;34m()\u001b[0m\n",
            "\u001b[0;32mzmq/backend/cython/socket.pyx\u001b[0m in \u001b[0;36mzmq.backend.cython.socket.Socket.recv\u001b[0;34m()\u001b[0m\n",
            "\u001b[0;32mzmq/backend/cython/socket.pyx\u001b[0m in \u001b[0;36mzmq.backend.cython.socket._recv_copy\u001b[0;34m()\u001b[0m\n",
            "\u001b[0;32m/usr/local/lib/python3.6/dist-packages/zmq/backend/cython/checkrc.pxd\u001b[0m in \u001b[0;36mzmq.backend.cython.checkrc._check_rc\u001b[0;34m()\u001b[0m\n",
            "\u001b[0;31mKeyboardInterrupt\u001b[0m: ",
            "\nDuring handling of the above exception, another exception occurred:\n",
            "\u001b[0;31mKeyboardInterrupt\u001b[0m                         Traceback (most recent call last)",
            "\u001b[0;32m<ipython-input-16-38c4fa4d30b2>\u001b[0m in \u001b[0;36m<module>\u001b[0;34m()\u001b[0m\n\u001b[1;32m      3\u001b[0m \u001b[0mexit_list\u001b[0m\u001b[0;34m=\u001b[0m\u001b[0;34m[\u001b[0m\u001b[0;34m'exit'\u001b[0m\u001b[0;34m,\u001b[0m\u001b[0;34m'see you later'\u001b[0m\u001b[0;34m,\u001b[0m\u001b[0;34m'bye'\u001b[0m\u001b[0;34m,\u001b[0m\u001b[0;34m'cya'\u001b[0m\u001b[0;34m,\u001b[0m\u001b[0;34m'quit'\u001b[0m\u001b[0;34m]\u001b[0m\u001b[0;34m\u001b[0m\u001b[0;34m\u001b[0m\u001b[0m\n\u001b[1;32m      4\u001b[0m \u001b[0;32mwhile\u001b[0m\u001b[0;34m(\u001b[0m\u001b[0;32mTrue\u001b[0m\u001b[0;34m)\u001b[0m\u001b[0;34m:\u001b[0m\u001b[0;34m\u001b[0m\u001b[0;34m\u001b[0m\u001b[0m\n\u001b[0;32m----> 5\u001b[0;31m   \u001b[0muser_input\u001b[0m\u001b[0;34m=\u001b[0m\u001b[0minput\u001b[0m\u001b[0;34m(\u001b[0m\u001b[0;34m)\u001b[0m\u001b[0;34m\u001b[0m\u001b[0;34m\u001b[0m\u001b[0m\n\u001b[0m\u001b[1;32m      6\u001b[0m   \u001b[0;32mif\u001b[0m \u001b[0muser_input\u001b[0m\u001b[0;34m.\u001b[0m\u001b[0mlower\u001b[0m\u001b[0;34m(\u001b[0m\u001b[0;34m)\u001b[0m \u001b[0;32min\u001b[0m \u001b[0mexit_list\u001b[0m\u001b[0;34m:\u001b[0m\u001b[0;34m\u001b[0m\u001b[0;34m\u001b[0m\u001b[0m\n\u001b[1;32m      7\u001b[0m     \u001b[0mprint\u001b[0m\u001b[0;34m(\u001b[0m\u001b[0;34m'Doc Bot: Bye, It was great serving for you.'\u001b[0m\u001b[0;34m)\u001b[0m\u001b[0;34m\u001b[0m\u001b[0;34m\u001b[0m\u001b[0m\n",
            "\u001b[0;32m/usr/local/lib/python3.6/dist-packages/ipykernel/kernelbase.py\u001b[0m in \u001b[0;36mraw_input\u001b[0;34m(self, prompt)\u001b[0m\n\u001b[1;32m    702\u001b[0m             \u001b[0mself\u001b[0m\u001b[0;34m.\u001b[0m\u001b[0m_parent_ident\u001b[0m\u001b[0;34m,\u001b[0m\u001b[0;34m\u001b[0m\u001b[0;34m\u001b[0m\u001b[0m\n\u001b[1;32m    703\u001b[0m             \u001b[0mself\u001b[0m\u001b[0;34m.\u001b[0m\u001b[0m_parent_header\u001b[0m\u001b[0;34m,\u001b[0m\u001b[0;34m\u001b[0m\u001b[0;34m\u001b[0m\u001b[0m\n\u001b[0;32m--> 704\u001b[0;31m             \u001b[0mpassword\u001b[0m\u001b[0;34m=\u001b[0m\u001b[0;32mFalse\u001b[0m\u001b[0;34m,\u001b[0m\u001b[0;34m\u001b[0m\u001b[0;34m\u001b[0m\u001b[0m\n\u001b[0m\u001b[1;32m    705\u001b[0m         )\n\u001b[1;32m    706\u001b[0m \u001b[0;34m\u001b[0m\u001b[0m\n",
            "\u001b[0;32m/usr/local/lib/python3.6/dist-packages/ipykernel/kernelbase.py\u001b[0m in \u001b[0;36m_input_request\u001b[0;34m(self, prompt, ident, parent, password)\u001b[0m\n\u001b[1;32m    732\u001b[0m             \u001b[0;32mexcept\u001b[0m \u001b[0mKeyboardInterrupt\u001b[0m\u001b[0;34m:\u001b[0m\u001b[0;34m\u001b[0m\u001b[0;34m\u001b[0m\u001b[0m\n\u001b[1;32m    733\u001b[0m                 \u001b[0;31m# re-raise KeyboardInterrupt, to truncate traceback\u001b[0m\u001b[0;34m\u001b[0m\u001b[0;34m\u001b[0m\u001b[0;34m\u001b[0m\u001b[0m\n\u001b[0;32m--> 734\u001b[0;31m                 \u001b[0;32mraise\u001b[0m \u001b[0mKeyboardInterrupt\u001b[0m\u001b[0;34m\u001b[0m\u001b[0;34m\u001b[0m\u001b[0m\n\u001b[0m\u001b[1;32m    735\u001b[0m             \u001b[0;32melse\u001b[0m\u001b[0;34m:\u001b[0m\u001b[0;34m\u001b[0m\u001b[0;34m\u001b[0m\u001b[0m\n\u001b[1;32m    736\u001b[0m                 \u001b[0;32mbreak\u001b[0m\u001b[0;34m\u001b[0m\u001b[0;34m\u001b[0m\u001b[0m\n",
            "\u001b[0;31mKeyboardInterrupt\u001b[0m: "
          ]
        }
      ]
    }
  ]
}